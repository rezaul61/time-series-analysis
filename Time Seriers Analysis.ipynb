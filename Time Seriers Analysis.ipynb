{
 "cells": [
  {
   "cell_type": "code",
   "execution_count": 1,
   "id": "da81ee1e-f681-4dc1-b866-7d0336ea112c",
   "metadata": {},
   "outputs": [],
   "source": [
    "import pandas as pd"
   ]
  },
  {
   "cell_type": "code",
   "execution_count": 2,
   "id": "b4fa876d-2eb3-4de2-be8c-9ff1be788dcd",
   "metadata": {},
   "outputs": [],
   "source": [
    "import pyreadstat "
   ]
  },
  {
   "cell_type": "code",
   "execution_count": 47,
   "id": "ff3e6bae-ae67-40f2-b128-4ce6bfe1ef2a",
   "metadata": {},
   "outputs": [],
   "source": [
    "import warnings\n",
    "warnings.filterwarnings('ignore')\n"
   ]
  },
  {
   "cell_type": "markdown",
   "id": "65caf443-5e6c-4654-aeb8-8829d3936353",
   "metadata": {},
   "source": [
    "## Import Datset"
   ]
  },
  {
   "cell_type": "code",
   "execution_count": 48,
   "id": "6895484c-f5a6-49fa-98cd-664517b94fd6",
   "metadata": {},
   "outputs": [],
   "source": [
    "data,df=pyreadstat.read_sav(\"C:\\\\Users\\\\rezau\\\\Downloads\\\\Telegram Desktop\\Data05 (2).sav\")"
   ]
  },
  {
   "cell_type": "code",
   "execution_count": 49,
   "id": "40a17b37-a575-4172-a137-9a338d7edc87",
   "metadata": {},
   "outputs": [
    {
     "data": {
      "text/html": [
       "<div>\n",
       "<style scoped>\n",
       "    .dataframe tbody tr th:only-of-type {\n",
       "        vertical-align: middle;\n",
       "    }\n",
       "\n",
       "    .dataframe tbody tr th {\n",
       "        vertical-align: top;\n",
       "    }\n",
       "\n",
       "    .dataframe thead th {\n",
       "        text-align: right;\n",
       "    }\n",
       "</style>\n",
       "<table border=\"1\" class=\"dataframe\">\n",
       "  <thead>\n",
       "    <tr style=\"text-align: right;\">\n",
       "      <th></th>\n",
       "      <th>q_01</th>\n",
       "      <th>q_02</th>\n",
       "      <th>q_03</th>\n",
       "      <th>q_04</th>\n",
       "      <th>q_05</th>\n",
       "      <th>q_06</th>\n",
       "      <th>q_07</th>\n",
       "      <th>q_08</th>\n",
       "      <th>q_09</th>\n",
       "      <th>q_10</th>\n",
       "      <th>...</th>\n",
       "      <th>q_16</th>\n",
       "      <th>q_17</th>\n",
       "      <th>q_19</th>\n",
       "      <th>q_20</th>\n",
       "      <th>q_21</th>\n",
       "      <th>q_22</th>\n",
       "      <th>q_23</th>\n",
       "      <th>q_23.1</th>\n",
       "      <th>q_24</th>\n",
       "      <th>q_5c</th>\n",
       "    </tr>\n",
       "  </thead>\n",
       "  <tbody>\n",
       "    <tr>\n",
       "      <th>0</th>\n",
       "      <td>3.0</td>\n",
       "      <td>27.0</td>\n",
       "      <td>2.0</td>\n",
       "      <td>2.0</td>\n",
       "      <td>3.0</td>\n",
       "      <td>1.0</td>\n",
       "      <td>1.0</td>\n",
       "      <td>0.0</td>\n",
       "      <td>1.0</td>\n",
       "      <td>0.0</td>\n",
       "      <td>...</td>\n",
       "      <td>115000.0</td>\n",
       "      <td>64.0</td>\n",
       "      <td>28.0</td>\n",
       "      <td>30.0</td>\n",
       "      <td>1.0</td>\n",
       "      <td>4.0</td>\n",
       "      <td>1.0</td>\n",
       "      <td>1.0</td>\n",
       "      <td>200.0</td>\n",
       "      <td>1.0</td>\n",
       "    </tr>\n",
       "    <tr>\n",
       "      <th>1</th>\n",
       "      <td>2.0</td>\n",
       "      <td>28.0</td>\n",
       "      <td>1.0</td>\n",
       "      <td>2.0</td>\n",
       "      <td>8.0</td>\n",
       "      <td>1.0</td>\n",
       "      <td>2.0</td>\n",
       "      <td>3.0</td>\n",
       "      <td>3.0</td>\n",
       "      <td>1.0</td>\n",
       "      <td>...</td>\n",
       "      <td>123000.0</td>\n",
       "      <td>70.0</td>\n",
       "      <td>44.0</td>\n",
       "      <td>15.0</td>\n",
       "      <td>0.0</td>\n",
       "      <td>1.0</td>\n",
       "      <td>1.0</td>\n",
       "      <td>2.0</td>\n",
       "      <td>175.0</td>\n",
       "      <td>1.0</td>\n",
       "    </tr>\n",
       "    <tr>\n",
       "      <th>2</th>\n",
       "      <td>1.0</td>\n",
       "      <td>49.0</td>\n",
       "      <td>2.0</td>\n",
       "      <td>2.0</td>\n",
       "      <td>4.0</td>\n",
       "      <td>2.0</td>\n",
       "      <td>4.0</td>\n",
       "      <td>4.0</td>\n",
       "      <td>5.0</td>\n",
       "      <td>1.0</td>\n",
       "      <td>...</td>\n",
       "      <td>233000.0</td>\n",
       "      <td>64.0</td>\n",
       "      <td>31.0</td>\n",
       "      <td>27.0</td>\n",
       "      <td>1.0</td>\n",
       "      <td>3.0</td>\n",
       "      <td>1.0</td>\n",
       "      <td>3.0</td>\n",
       "      <td>465.0</td>\n",
       "      <td>1.0</td>\n",
       "    </tr>\n",
       "    <tr>\n",
       "      <th>3</th>\n",
       "      <td>1.0</td>\n",
       "      <td>26.0</td>\n",
       "      <td>2.0</td>\n",
       "      <td>2.0</td>\n",
       "      <td>0.0</td>\n",
       "      <td>2.0</td>\n",
       "      <td>2.0</td>\n",
       "      <td>2.0</td>\n",
       "      <td>4.0</td>\n",
       "      <td>0.0</td>\n",
       "      <td>...</td>\n",
       "      <td>120000.0</td>\n",
       "      <td>63.0</td>\n",
       "      <td>33.0</td>\n",
       "      <td>14.0</td>\n",
       "      <td>1.0</td>\n",
       "      <td>4.0</td>\n",
       "      <td>1.0</td>\n",
       "      <td>1.0</td>\n",
       "      <td>400.0</td>\n",
       "      <td>0.0</td>\n",
       "    </tr>\n",
       "    <tr>\n",
       "      <th>4</th>\n",
       "      <td>2.0</td>\n",
       "      <td>27.0</td>\n",
       "      <td>2.0</td>\n",
       "      <td>1.0</td>\n",
       "      <td>6.0</td>\n",
       "      <td>2.0</td>\n",
       "      <td>1.0</td>\n",
       "      <td>0.0</td>\n",
       "      <td>2.0</td>\n",
       "      <td>1.0</td>\n",
       "      <td>...</td>\n",
       "      <td>47900.0</td>\n",
       "      <td>67.0</td>\n",
       "      <td>36.0</td>\n",
       "      <td>29.0</td>\n",
       "      <td>1.0</td>\n",
       "      <td>2.0</td>\n",
       "      <td>1.0</td>\n",
       "      <td>1.0</td>\n",
       "      <td>310.0</td>\n",
       "      <td>1.0</td>\n",
       "    </tr>\n",
       "    <tr>\n",
       "      <th>...</th>\n",
       "      <td>...</td>\n",
       "      <td>...</td>\n",
       "      <td>...</td>\n",
       "      <td>...</td>\n",
       "      <td>...</td>\n",
       "      <td>...</td>\n",
       "      <td>...</td>\n",
       "      <td>...</td>\n",
       "      <td>...</td>\n",
       "      <td>...</td>\n",
       "      <td>...</td>\n",
       "      <td>...</td>\n",
       "      <td>...</td>\n",
       "      <td>...</td>\n",
       "      <td>...</td>\n",
       "      <td>...</td>\n",
       "      <td>...</td>\n",
       "      <td>...</td>\n",
       "      <td>...</td>\n",
       "      <td>...</td>\n",
       "      <td>...</td>\n",
       "    </tr>\n",
       "    <tr>\n",
       "      <th>125</th>\n",
       "      <td>2.0</td>\n",
       "      <td>21.0</td>\n",
       "      <td>1.0</td>\n",
       "      <td>1.0</td>\n",
       "      <td>6.0</td>\n",
       "      <td>1.0</td>\n",
       "      <td>1.0</td>\n",
       "      <td>3.0</td>\n",
       "      <td>5.0</td>\n",
       "      <td>0.0</td>\n",
       "      <td>...</td>\n",
       "      <td>77000.0</td>\n",
       "      <td>69.0</td>\n",
       "      <td>43.0</td>\n",
       "      <td>14.0</td>\n",
       "      <td>1.0</td>\n",
       "      <td>3.0</td>\n",
       "      <td>0.0</td>\n",
       "      <td>NaN</td>\n",
       "      <td>0.0</td>\n",
       "      <td>1.0</td>\n",
       "    </tr>\n",
       "    <tr>\n",
       "      <th>126</th>\n",
       "      <td>2.0</td>\n",
       "      <td>18.0</td>\n",
       "      <td>1.0</td>\n",
       "      <td>1.0</td>\n",
       "      <td>0.0</td>\n",
       "      <td>2.0</td>\n",
       "      <td>2.0</td>\n",
       "      <td>0.0</td>\n",
       "      <td>1.0</td>\n",
       "      <td>1.0</td>\n",
       "      <td>...</td>\n",
       "      <td>33000.0</td>\n",
       "      <td>66.0</td>\n",
       "      <td>35.0</td>\n",
       "      <td>22.0</td>\n",
       "      <td>1.0</td>\n",
       "      <td>3.0</td>\n",
       "      <td>1.0</td>\n",
       "      <td>1.0</td>\n",
       "      <td>340.0</td>\n",
       "      <td>0.0</td>\n",
       "    </tr>\n",
       "    <tr>\n",
       "      <th>127</th>\n",
       "      <td>3.0</td>\n",
       "      <td>36.0</td>\n",
       "      <td>1.0</td>\n",
       "      <td>1.0</td>\n",
       "      <td>0.0</td>\n",
       "      <td>1.0</td>\n",
       "      <td>4.0</td>\n",
       "      <td>5.0</td>\n",
       "      <td>5.0</td>\n",
       "      <td>1.0</td>\n",
       "      <td>...</td>\n",
       "      <td>97000.0</td>\n",
       "      <td>67.0</td>\n",
       "      <td>38.0</td>\n",
       "      <td>24.0</td>\n",
       "      <td>1.0</td>\n",
       "      <td>1.0</td>\n",
       "      <td>0.0</td>\n",
       "      <td>NaN</td>\n",
       "      <td>0.0</td>\n",
       "      <td>0.0</td>\n",
       "    </tr>\n",
       "    <tr>\n",
       "      <th>128</th>\n",
       "      <td>1.0</td>\n",
       "      <td>12.0</td>\n",
       "      <td>2.0</td>\n",
       "      <td>1.0</td>\n",
       "      <td>7.0</td>\n",
       "      <td>2.0</td>\n",
       "      <td>3.0</td>\n",
       "      <td>2.0</td>\n",
       "      <td>3.0</td>\n",
       "      <td>1.0</td>\n",
       "      <td>...</td>\n",
       "      <td>77000.0</td>\n",
       "      <td>74.0</td>\n",
       "      <td>37.0</td>\n",
       "      <td>17.0</td>\n",
       "      <td>1.0</td>\n",
       "      <td>2.0</td>\n",
       "      <td>1.0</td>\n",
       "      <td>1.0</td>\n",
       "      <td>532.0</td>\n",
       "      <td>1.0</td>\n",
       "    </tr>\n",
       "    <tr>\n",
       "      <th>129</th>\n",
       "      <td>1.0</td>\n",
       "      <td>28.0</td>\n",
       "      <td>1.0</td>\n",
       "      <td>1.0</td>\n",
       "      <td>12.0</td>\n",
       "      <td>1.0</td>\n",
       "      <td>2.0</td>\n",
       "      <td>2.0</td>\n",
       "      <td>2.0</td>\n",
       "      <td>0.0</td>\n",
       "      <td>...</td>\n",
       "      <td>83000.0</td>\n",
       "      <td>72.0</td>\n",
       "      <td>44.0</td>\n",
       "      <td>19.0</td>\n",
       "      <td>1.0</td>\n",
       "      <td>3.0</td>\n",
       "      <td>1.0</td>\n",
       "      <td>1.0</td>\n",
       "      <td>700.0</td>\n",
       "      <td>1.0</td>\n",
       "    </tr>\n",
       "  </tbody>\n",
       "</table>\n",
       "<p>130 rows × 28 columns</p>\n",
       "</div>"
      ],
      "text/plain": [
       "     q_01  q_02  q_03  q_04  q_05  q_06  q_07  q_08  q_09  q_10  ...  \\\n",
       "0     3.0  27.0   2.0   2.0   3.0   1.0   1.0   0.0   1.0   0.0  ...   \n",
       "1     2.0  28.0   1.0   2.0   8.0   1.0   2.0   3.0   3.0   1.0  ...   \n",
       "2     1.0  49.0   2.0   2.0   4.0   2.0   4.0   4.0   5.0   1.0  ...   \n",
       "3     1.0  26.0   2.0   2.0   0.0   2.0   2.0   2.0   4.0   0.0  ...   \n",
       "4     2.0  27.0   2.0   1.0   6.0   2.0   1.0   0.0   2.0   1.0  ...   \n",
       "..    ...   ...   ...   ...   ...   ...   ...   ...   ...   ...  ...   \n",
       "125   2.0  21.0   1.0   1.0   6.0   1.0   1.0   3.0   5.0   0.0  ...   \n",
       "126   2.0  18.0   1.0   1.0   0.0   2.0   2.0   0.0   1.0   1.0  ...   \n",
       "127   3.0  36.0   1.0   1.0   0.0   1.0   4.0   5.0   5.0   1.0  ...   \n",
       "128   1.0  12.0   2.0   1.0   7.0   2.0   3.0   2.0   3.0   1.0  ...   \n",
       "129   1.0  28.0   1.0   1.0  12.0   1.0   2.0   2.0   2.0   0.0  ...   \n",
       "\n",
       "         q_16  q_17  q_19  q_20  q_21  q_22  q_23  q_23.1   q_24  q_5c  \n",
       "0    115000.0  64.0  28.0  30.0   1.0   4.0   1.0     1.0  200.0   1.0  \n",
       "1    123000.0  70.0  44.0  15.0   0.0   1.0   1.0     2.0  175.0   1.0  \n",
       "2    233000.0  64.0  31.0  27.0   1.0   3.0   1.0     3.0  465.0   1.0  \n",
       "3    120000.0  63.0  33.0  14.0   1.0   4.0   1.0     1.0  400.0   0.0  \n",
       "4     47900.0  67.0  36.0  29.0   1.0   2.0   1.0     1.0  310.0   1.0  \n",
       "..        ...   ...   ...   ...   ...   ...   ...     ...    ...   ...  \n",
       "125   77000.0  69.0  43.0  14.0   1.0   3.0   0.0     NaN    0.0   1.0  \n",
       "126   33000.0  66.0  35.0  22.0   1.0   3.0   1.0     1.0  340.0   0.0  \n",
       "127   97000.0  67.0  38.0  24.0   1.0   1.0   0.0     NaN    0.0   0.0  \n",
       "128   77000.0  74.0  37.0  17.0   1.0   2.0   1.0     1.0  532.0   1.0  \n",
       "129   83000.0  72.0  44.0  19.0   1.0   3.0   1.0     1.0  700.0   1.0  \n",
       "\n",
       "[130 rows x 28 columns]"
      ]
     },
     "execution_count": 49,
     "metadata": {},
     "output_type": "execute_result"
    }
   ],
   "source": [
    "data"
   ]
  },
  {
   "cell_type": "markdown",
   "id": "6b6ba2e3-86d4-426b-890a-35d35f04bd59",
   "metadata": {},
   "source": [
    "## \"q_20\" columns takes for Converting to time series "
   ]
  },
  {
   "cell_type": "code",
   "execution_count": 50,
   "id": "65058911-fad4-415c-b2ca-d70d4923d178",
   "metadata": {},
   "outputs": [
    {
     "data": {
      "text/html": [
       "<div>\n",
       "<style scoped>\n",
       "    .dataframe tbody tr th:only-of-type {\n",
       "        vertical-align: middle;\n",
       "    }\n",
       "\n",
       "    .dataframe tbody tr th {\n",
       "        vertical-align: top;\n",
       "    }\n",
       "\n",
       "    .dataframe thead th {\n",
       "        text-align: right;\n",
       "    }\n",
       "</style>\n",
       "<table border=\"1\" class=\"dataframe\">\n",
       "  <thead>\n",
       "    <tr style=\"text-align: right;\">\n",
       "      <th></th>\n",
       "      <th>q_20</th>\n",
       "    </tr>\n",
       "  </thead>\n",
       "  <tbody>\n",
       "    <tr>\n",
       "      <th>0</th>\n",
       "      <td>30.0</td>\n",
       "    </tr>\n",
       "    <tr>\n",
       "      <th>1</th>\n",
       "      <td>15.0</td>\n",
       "    </tr>\n",
       "    <tr>\n",
       "      <th>2</th>\n",
       "      <td>27.0</td>\n",
       "    </tr>\n",
       "    <tr>\n",
       "      <th>3</th>\n",
       "      <td>14.0</td>\n",
       "    </tr>\n",
       "    <tr>\n",
       "      <th>4</th>\n",
       "      <td>29.0</td>\n",
       "    </tr>\n",
       "    <tr>\n",
       "      <th>...</th>\n",
       "      <td>...</td>\n",
       "    </tr>\n",
       "    <tr>\n",
       "      <th>125</th>\n",
       "      <td>14.0</td>\n",
       "    </tr>\n",
       "    <tr>\n",
       "      <th>126</th>\n",
       "      <td>22.0</td>\n",
       "    </tr>\n",
       "    <tr>\n",
       "      <th>127</th>\n",
       "      <td>24.0</td>\n",
       "    </tr>\n",
       "    <tr>\n",
       "      <th>128</th>\n",
       "      <td>17.0</td>\n",
       "    </tr>\n",
       "    <tr>\n",
       "      <th>129</th>\n",
       "      <td>19.0</td>\n",
       "    </tr>\n",
       "  </tbody>\n",
       "</table>\n",
       "<p>130 rows × 1 columns</p>\n",
       "</div>"
      ],
      "text/plain": [
       "     q_20\n",
       "0    30.0\n",
       "1    15.0\n",
       "2    27.0\n",
       "3    14.0\n",
       "4    29.0\n",
       "..    ...\n",
       "125  14.0\n",
       "126  22.0\n",
       "127  24.0\n",
       "128  17.0\n",
       "129  19.0\n",
       "\n",
       "[130 rows x 1 columns]"
      ]
     },
     "execution_count": 50,
     "metadata": {},
     "output_type": "execute_result"
    }
   ],
   "source": [
    "data1=data[['q_20']]\n",
    "data1"
   ]
  },
  {
   "cell_type": "code",
   "execution_count": null,
   "id": "7ad0db5c-a3e6-4efd-a890-af15fddb88e8",
   "metadata": {},
   "outputs": [],
   "source": []
  },
  {
   "cell_type": "markdown",
   "id": "49e945f9-1111-492a-84f1-ceadf14cc8fc",
   "metadata": {},
   "source": [
    "## checking null value"
   ]
  },
  {
   "cell_type": "code",
   "execution_count": 51,
   "id": "6866262c-a692-44ab-b73b-8bb3f28dcfe1",
   "metadata": {},
   "outputs": [
    {
     "data": {
      "text/plain": [
       "q_20    0\n",
       "dtype: int64"
      ]
     },
     "execution_count": 51,
     "metadata": {},
     "output_type": "execute_result"
    }
   ],
   "source": [
    "data1.isnull().sum()"
   ]
  },
  {
   "cell_type": "markdown",
   "id": "941fa068-fb1a-448b-b298-d2bf4faafb4e",
   "metadata": {},
   "source": [
    "## change column name"
   ]
  },
  {
   "cell_type": "code",
   "execution_count": 52,
   "id": "c99903b5-cce8-4c0d-9ef6-d8afcc06473e",
   "metadata": {},
   "outputs": [],
   "source": [
    "data1.rename(columns={'q_20': 'National Integrity Score'},inplace=True)"
   ]
  },
  {
   "cell_type": "code",
   "execution_count": 53,
   "id": "b8f80ce0-ee17-40f9-bf70-cdb5997b740b",
   "metadata": {},
   "outputs": [
    {
     "data": {
      "text/html": [
       "<div>\n",
       "<style scoped>\n",
       "    .dataframe tbody tr th:only-of-type {\n",
       "        vertical-align: middle;\n",
       "    }\n",
       "\n",
       "    .dataframe tbody tr th {\n",
       "        vertical-align: top;\n",
       "    }\n",
       "\n",
       "    .dataframe thead th {\n",
       "        text-align: right;\n",
       "    }\n",
       "</style>\n",
       "<table border=\"1\" class=\"dataframe\">\n",
       "  <thead>\n",
       "    <tr style=\"text-align: right;\">\n",
       "      <th></th>\n",
       "      <th>National Integrity Score</th>\n",
       "    </tr>\n",
       "  </thead>\n",
       "  <tbody>\n",
       "    <tr>\n",
       "      <th>0</th>\n",
       "      <td>30.0</td>\n",
       "    </tr>\n",
       "    <tr>\n",
       "      <th>1</th>\n",
       "      <td>15.0</td>\n",
       "    </tr>\n",
       "    <tr>\n",
       "      <th>2</th>\n",
       "      <td>27.0</td>\n",
       "    </tr>\n",
       "    <tr>\n",
       "      <th>3</th>\n",
       "      <td>14.0</td>\n",
       "    </tr>\n",
       "    <tr>\n",
       "      <th>4</th>\n",
       "      <td>29.0</td>\n",
       "    </tr>\n",
       "    <tr>\n",
       "      <th>...</th>\n",
       "      <td>...</td>\n",
       "    </tr>\n",
       "    <tr>\n",
       "      <th>125</th>\n",
       "      <td>14.0</td>\n",
       "    </tr>\n",
       "    <tr>\n",
       "      <th>126</th>\n",
       "      <td>22.0</td>\n",
       "    </tr>\n",
       "    <tr>\n",
       "      <th>127</th>\n",
       "      <td>24.0</td>\n",
       "    </tr>\n",
       "    <tr>\n",
       "      <th>128</th>\n",
       "      <td>17.0</td>\n",
       "    </tr>\n",
       "    <tr>\n",
       "      <th>129</th>\n",
       "      <td>19.0</td>\n",
       "    </tr>\n",
       "  </tbody>\n",
       "</table>\n",
       "<p>130 rows × 1 columns</p>\n",
       "</div>"
      ],
      "text/plain": [
       "     National Integrity Score\n",
       "0                        30.0\n",
       "1                        15.0\n",
       "2                        27.0\n",
       "3                        14.0\n",
       "4                        29.0\n",
       "..                        ...\n",
       "125                      14.0\n",
       "126                      22.0\n",
       "127                      24.0\n",
       "128                      17.0\n",
       "129                      19.0\n",
       "\n",
       "[130 rows x 1 columns]"
      ]
     },
     "execution_count": 53,
     "metadata": {},
     "output_type": "execute_result"
    }
   ],
   "source": [
    "data1"
   ]
  },
  {
   "cell_type": "code",
   "execution_count": 54,
   "id": "da4116ca-0c26-46cb-8d34-a5b238e0f7ed",
   "metadata": {},
   "outputs": [
    {
     "data": {
      "text/plain": [
       "130"
      ]
     },
     "execution_count": 54,
     "metadata": {},
     "output_type": "execute_result"
    }
   ],
   "source": [
    "rows=len(data1);rows"
   ]
  },
  {
   "cell_type": "markdown",
   "id": "ccb94c78-8274-470a-9f74-ce77b98eb262",
   "metadata": {},
   "source": [
    "## converting rows to month "
   ]
  },
  {
   "cell_type": "code",
   "execution_count": 55,
   "id": "c7fc5f7a-6776-451b-8ecf-e23a69208b19",
   "metadata": {},
   "outputs": [],
   "source": [
    "date_index= pd.date_range(start='2015-01-01', periods=rows, freq='MS')"
   ]
  },
  {
   "cell_type": "code",
   "execution_count": 56,
   "id": "0db6dab3-480b-424c-aa06-9cca45d5c94a",
   "metadata": {},
   "outputs": [
    {
     "data": {
      "text/plain": [
       "pandas.core.indexes.datetimes.DatetimeIndex"
      ]
     },
     "execution_count": 56,
     "metadata": {},
     "output_type": "execute_result"
    }
   ],
   "source": [
    "type(date_index)"
   ]
  },
  {
   "cell_type": "markdown",
   "id": "23bf7ecf-d362-472c-ac0b-97a8be4457fe",
   "metadata": {},
   "source": [
    "## concating integrity value and dates"
   ]
  },
  {
   "cell_type": "code",
   "execution_count": 57,
   "id": "edbf4f3a-ab81-4590-ae24-94749e8adde8",
   "metadata": {},
   "outputs": [],
   "source": [
    "data1.index = date_index\n"
   ]
  },
  {
   "cell_type": "code",
   "execution_count": 58,
   "id": "9c2c7b33-231e-404b-985e-620d4f294d21",
   "metadata": {},
   "outputs": [
    {
     "data": {
      "text/html": [
       "<div>\n",
       "<style scoped>\n",
       "    .dataframe tbody tr th:only-of-type {\n",
       "        vertical-align: middle;\n",
       "    }\n",
       "\n",
       "    .dataframe tbody tr th {\n",
       "        vertical-align: top;\n",
       "    }\n",
       "\n",
       "    .dataframe thead th {\n",
       "        text-align: right;\n",
       "    }\n",
       "</style>\n",
       "<table border=\"1\" class=\"dataframe\">\n",
       "  <thead>\n",
       "    <tr style=\"text-align: right;\">\n",
       "      <th></th>\n",
       "      <th>National Integrity Score</th>\n",
       "    </tr>\n",
       "  </thead>\n",
       "  <tbody>\n",
       "    <tr>\n",
       "      <th>2015-01-01</th>\n",
       "      <td>30.0</td>\n",
       "    </tr>\n",
       "    <tr>\n",
       "      <th>2015-02-01</th>\n",
       "      <td>15.0</td>\n",
       "    </tr>\n",
       "    <tr>\n",
       "      <th>2015-03-01</th>\n",
       "      <td>27.0</td>\n",
       "    </tr>\n",
       "    <tr>\n",
       "      <th>2015-04-01</th>\n",
       "      <td>14.0</td>\n",
       "    </tr>\n",
       "    <tr>\n",
       "      <th>2015-05-01</th>\n",
       "      <td>29.0</td>\n",
       "    </tr>\n",
       "    <tr>\n",
       "      <th>...</th>\n",
       "      <td>...</td>\n",
       "    </tr>\n",
       "    <tr>\n",
       "      <th>2025-06-01</th>\n",
       "      <td>14.0</td>\n",
       "    </tr>\n",
       "    <tr>\n",
       "      <th>2025-07-01</th>\n",
       "      <td>22.0</td>\n",
       "    </tr>\n",
       "    <tr>\n",
       "      <th>2025-08-01</th>\n",
       "      <td>24.0</td>\n",
       "    </tr>\n",
       "    <tr>\n",
       "      <th>2025-09-01</th>\n",
       "      <td>17.0</td>\n",
       "    </tr>\n",
       "    <tr>\n",
       "      <th>2025-10-01</th>\n",
       "      <td>19.0</td>\n",
       "    </tr>\n",
       "  </tbody>\n",
       "</table>\n",
       "<p>130 rows × 1 columns</p>\n",
       "</div>"
      ],
      "text/plain": [
       "            National Integrity Score\n",
       "2015-01-01                      30.0\n",
       "2015-02-01                      15.0\n",
       "2015-03-01                      27.0\n",
       "2015-04-01                      14.0\n",
       "2015-05-01                      29.0\n",
       "...                              ...\n",
       "2025-06-01                      14.0\n",
       "2025-07-01                      22.0\n",
       "2025-08-01                      24.0\n",
       "2025-09-01                      17.0\n",
       "2025-10-01                      19.0\n",
       "\n",
       "[130 rows x 1 columns]"
      ]
     },
     "execution_count": 58,
     "metadata": {},
     "output_type": "execute_result"
    }
   ],
   "source": [
    "data1"
   ]
  },
  {
   "cell_type": "code",
   "execution_count": 59,
   "id": "518c41e8-9ceb-46e8-b6c7-208e4f69cc86",
   "metadata": {},
   "outputs": [
    {
     "data": {
      "text/plain": [
       "<Axes: >"
      ]
     },
     "execution_count": 59,
     "metadata": {},
     "output_type": "execute_result"
    },
    {
     "data": {
      "image/png": "[encoded data removed]",
      "text/plain": [
       "<Figure size 640x480 with 1 Axes>"
      ]
     },
     "metadata": {},
     "output_type": "display_data"
    }
   ],
   "source": [
    "data1.plot(kind='line')"
   ]
  },
  {
   "cell_type": "markdown",
   "id": "011fb8f0-4f77-40c3-8fc7-7ad7ad4af5c4",
   "metadata": {},
   "source": [
    "## Augmented Dickey-Fuller Test (checking wheather the data is stationary or not)"
   ]
  },
  {
   "cell_type": "code",
   "execution_count": 60,
   "id": "10d5ef36-8ba3-46ee-b573-2f335a4a439e",
   "metadata": {},
   "outputs": [
    {
     "name": "stdout",
     "output_type": "stream",
     "text": [
      "ADF Statistic: -10.94026526100937\n",
      "p-value: 9.334629298175842e-20\n"
     ]
    }
   ],
   "source": [
    "from statsmodels.tsa.stattools import adfuller\n",
    "adf_test = adfuller(data1['National Integrity Score'])\n",
    "print(f\"ADF Statistic: {adf_test[0]}\")\n",
    "print(f\"p-value: {adf_test[1]}\")\n"
   ]
  },
  {
   "cell_type": "code",
   "execution_count": 64,
   "id": "3d4cfb00-8719-4813-b2ba-d1a2dc405bae",
   "metadata": {},
   "outputs": [],
   "source": [
    "#since p value is less then 0.05 so we may say that the data is stationary that is mean and variance is same over the time "
   ]
  },
  {
   "cell_type": "markdown",
   "id": "b3ff8dc2-5756-4cc4-a371-ed4402e2cf04",
   "metadata": {},
   "source": [
    "## forecasting the dataset with ARIMA for next 12 months"
   ]
  },
  {
   "cell_type": "code",
   "execution_count": 73,
   "id": "a07f8563-672d-4c06-a422-8347285da76e",
   "metadata": {},
   "outputs": [
    {
     "data": {
      "text/plain": [
       "2025-11-01    19.579110\n",
       "2025-12-01    19.575726\n",
       "2026-01-01    19.575746\n",
       "2026-02-01    19.575745\n",
       "2026-03-01    19.575745\n",
       "2026-04-01    19.575745\n",
       "2026-05-01    19.575745\n",
       "2026-06-01    19.575745\n",
       "2026-07-01    19.575745\n",
       "2026-08-01    19.575745\n",
       "2026-09-01    19.575745\n",
       "2026-10-01    19.575745\n",
       "Freq: MS, Name: predicted_mean, dtype: float64"
      ]
     },
     "execution_count": 73,
     "metadata": {},
     "output_type": "execute_result"
    }
   ],
   "source": [
    "from statsmodels.tsa.arima.model import ARIMA\n",
    "model = ARIMA(data1['National Integrity Score'], order=(1,1,1))\n",
    "model_fit = model.fit()\n",
    "forecast_arima = model_fit.forecast(steps=12)\n",
    "forecast_arima"
   ]
  },
  {
   "cell_type": "code",
   "execution_count": 69,
   "id": "77cab9ad-d915-43a9-bfd1-ceb57ee19130",
   "metadata": {},
   "outputs": [],
   "source": [
    "from statsmodels.tsa.holtwinters import ExponentialSmoothing\n",
    "\n",
    "# Fit the model\n",
    "model_ets = ExponentialSmoothing(data1['National Integrity Score'], trend='add', seasonal='add', seasonal_periods=12)\n",
    "model_ets_fit = model_ets.fit()\n",
    "\n",
    "# Forecast\n",
    "forecast_ets = model_ets_fit.forecast(steps=12)\n"
   ]
  },
  {
   "cell_type": "code",
   "execution_count": 70,
   "id": "ceb8e4b6-ac5d-42bf-a418-9fd4149d9a49",
   "metadata": {},
   "outputs": [
    {
     "data": {
      "text/plain": [
       "2025-11-01    17.912405\n",
       "2025-12-01    16.514271\n",
       "2026-01-01    19.067227\n",
       "2026-02-01    19.885617\n",
       "2026-03-01    19.431257\n",
       "2026-04-01    16.885794\n",
       "2026-05-01    18.067860\n",
       "2026-06-01    18.704299\n",
       "2026-07-01    18.795413\n",
       "2026-08-01    17.522768\n",
       "2026-09-01    18.159263\n",
       "2026-10-01    18.068552\n",
       "Freq: MS, dtype: float64"
      ]
     },
     "execution_count": 70,
     "metadata": {},
     "output_type": "execute_result"
    }
   ],
   "source": [
    "forecast_ets"
   ]
  },
  {
   "cell_type": "code",
   "execution_count": 83,
   "id": "1ce9fa55-7f4d-43ab-b3ba-5c4045908f26",
   "metadata": {},
   "outputs": [
    {
     "data": {
      "image/png": "[encoded data removed]",
      "text/plain": [
       "<Figure size 640x480 with 1 Axes>"
      ]
     },
     "metadata": {},
     "output_type": "display_data"
    }
   ],
   "source": [
    "import matplotlib.pyplot as plt\n",
    "\n",
    "# Plotting the original series\n",
    "plt.plot(data1['National Integrity Score'], label='Actual Data', color='blue')\n",
    "\n",
    "# Plotting ARIMA forecast\n",
    "plt.plot(range(len(data1), len(data1)+12), forecast_arima, label='ARIMA Forecast', color='orange',marker='x', markersize=5)\n",
    "\n",
    "# Plotting ETS forecast\n",
    "plt.plot(range(len(data1), len(data1)+12), forecast_ets, label='ETS Forecast', color='green')\n",
    "\n",
    "plt.legend()\n",
    "plt.title('Forecast Comparison: ARIMA vs ETS')\n",
    "plt.show()\n"
   ]
  },
  {
   "cell_type": "code",
   "execution_count": null,
   "id": "13dcf729-0b61-4056-9225-063d8eea5113",
   "metadata": {},
   "outputs": [],
   "source": []
  }
 ],
 "metadata": {
  "kernelspec": {
   "display_name": "Python 3 (ipykernel)",
   "language": "python",
   "name": "python3"
  },
  "language_info": {
   "codemirror_mode": {
    "name": "ipython",
    "version": 3
   },
   "file_extension": ".py",
   "mimetype": "text/x-python",
   "name": "python",
   "nbconvert_exporter": "python",
   "pygments_lexer": "ipython3",
   "version": "3.11.0"
  }
 },
 "nbformat": 4,
 "nbformat_minor": 5
}
